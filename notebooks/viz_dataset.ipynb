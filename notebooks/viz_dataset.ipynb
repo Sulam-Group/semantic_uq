{
 "cells": [
  {
   "cell_type": "code",
   "execution_count": null,
   "metadata": {},
   "outputs": [],
   "source": [
    "import os\n",
    "import sys\n",
    "import matplotlib.pyplot as plt\n",
    "import seaborn as sns\n",
    "import numpy as np\n",
    "import torch\n",
    "from torch.utils.data import DataLoader\n",
    "from torchvision.utils import make_grid\n",
    "from torchvision.transforms.functional import center_crop\n",
    "\n",
    "root_dir = \"../\"\n",
    "sys.path.append(root_dir)\n",
    "from configs import get_config\n",
    "from datasets import get_dataset\n",
    "\n",
    "config_name = \"flare\"\n",
    "config = get_config(config_name)\n",
    "\n",
    "dataset = get_dataset(config)\n",
    "dataloader = DataLoader(dataset, batch_size=1, shuffle=False)\n",
    "\n",
    "sns.set_theme()\n",
    "sns.set_context(\"paper\")"
   ]
  },
  {
   "cell_type": "code",
   "execution_count": null,
   "metadata": {},
   "outputs": [],
   "source": [
    "figure_dir = os.path.join(root_dir, \"figures\", \"scans\", config.data.dataset)\n",
    "os.makedirs(figure_dir, exist_ok=True)\n",
    "\n",
    "image_size = config.calibration.image_size\n",
    "\n",
    "n, m = 2, 8\n",
    "images = torch.zeros(n, m, 1, image_size, image_size)\n",
    "for i, data in enumerate(dataloader):\n",
    "    image = data[\"image\"]\n",
    "    print(data[\"name_img\"])\n",
    "    print(image.size())\n",
    "    image = image.squeeze()\n",
    "\n",
    "    slice_idx = np.linspace(0, image.shape[-1] - 1, m).astype(int)\n",
    "    image_slices = image[..., slice_idx]\n",
    "    image_slices = image_slices.permute(2, 0, 1)\n",
    "    image_slices = image_slices.unsqueeze(1)\n",
    "    image_slices = center_crop(image_slices, image_size)\n",
    "    images[i] = torch.rot90(image_slices, dims=(2, 3))\n",
    "\n",
    "    if (i + 1) == n:\n",
    "        break\n",
    "\n",
    "_, ax = plt.subplots(figsize=(16, 9))\n",
    "image_grid = make_grid(images.flatten(0, 1), nrow=m)\n",
    "ax.imshow(image_grid.permute(1, 2, 0), cmap=\"gray\")\n",
    "ax.axis(\"off\")\n",
    "plt.savefig(os.path.join(figure_dir, \"image_slices.pdf\"), bbox_inches=\"tight\")\n",
    "plt.savefig(os.path.join(figure_dir, \"image_slices.png\"), bbox_inches=\"tight\")\n",
    "plt.show()"
   ]
  },
  {
   "cell_type": "code",
   "execution_count": null,
   "metadata": {},
   "outputs": [],
   "source": []
  }
 ],
 "metadata": {
  "kernelspec": {
   "display_name": "suprem",
   "language": "python",
   "name": "python3"
  },
  "language_info": {
   "codemirror_mode": {
    "name": "ipython",
    "version": 3
   },
   "file_extension": ".py",
   "mimetype": "text/x-python",
   "name": "python",
   "nbconvert_exporter": "python",
   "pygments_lexer": "ipython3",
   "version": "3.9.21"
  }
 },
 "nbformat": 4,
 "nbformat_minor": 2
}
