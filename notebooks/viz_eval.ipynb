{
 "cells": [
  {
   "cell_type": "code",
   "execution_count": null,
   "metadata": {},
   "outputs": [],
   "source": [
    "import os\n",
    "import sys\n",
    "import numpy as np\n",
    "import pandas as pd\n",
    "\n",
    "root_dir = \"../\"\n",
    "sys.path.append(root_dir)\n",
    "from configs import get_config\n",
    "from utils import target_template, organ_name_low\n",
    "\n",
    "config_name = \"flare\"\n",
    "config = get_config(config_name)\n",
    "task_configs = config._sweep(keys=[\"data.task\"])"
   ]
  },
  {
   "cell_type": "code",
   "execution_count": null,
   "metadata": {},
   "outputs": [],
   "source": [
    "for task_config in task_configs:\n",
    "    results_dir = task_config.get_results_dir()\n",
    "    eval_path = os.path.join(results_dir, \"evaluation.csv\")\n",
    "\n",
    "    eval_df = pd.read_csv(eval_path)\n",
    "    eval_df.set_index(\"scan_name\", inplace=True)\n",
    "    eval_df = eval_df.drop(columns=[\"Unnamed: 0\"])\n",
    "\n",
    "    eval_mu = eval_df.mean(skipna=True)\n",
    "\n",
    "    print(\n",
    "        f\"Evaluation results for dataset {task_config.data.dataset},\"\n",
    "        f\" task {task_config.data.task}:\"\n",
    "    )\n",
    "\n",
    "    organ_f1 = []\n",
    "    for organ_idx in target_template:\n",
    "        organ_name = organ_name_low[organ_idx - 1]\n",
    "        organ_f1.append(eval_mu[organ_name])\n",
    "        print(f\"\\t{organ_name}: {eval_mu[organ_name]:.4f}\")\n",
    "\n",
    "    organ_f1 = np.array(organ_f1)\n",
    "    print(f\"Overall: {organ_f1.mean():.2f} +- {organ_f1.std():.2f}\")"
   ]
  },
  {
   "cell_type": "code",
   "execution_count": null,
   "metadata": {},
   "outputs": [],
   "source": []
  }
 ],
 "metadata": {
  "kernelspec": {
   "display_name": "suprem",
   "language": "python",
   "name": "python3"
  },
  "language_info": {
   "codemirror_mode": {
    "name": "ipython",
    "version": 3
   },
   "file_extension": ".py",
   "mimetype": "text/x-python",
   "name": "python",
   "nbconvert_exporter": "python",
   "pygments_lexer": "ipython3",
   "version": "3.9.21"
  }
 },
 "nbformat": 4,
 "nbformat_minor": 2
}
