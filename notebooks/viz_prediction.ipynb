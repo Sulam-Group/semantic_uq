{
 "cells": [
  {
   "cell_type": "code",
   "execution_count": null,
   "metadata": {},
   "outputs": [],
   "source": [
    "import sys\n",
    "import os\n",
    "import numpy as np\n",
    "import torch\n",
    "import matplotlib.pyplot as plt\n",
    "from monai.data import DataLoader\n",
    "from torchvision.utils import make_grid\n",
    "\n",
    "root_dir = \"../\"\n",
    "sys.path.append(root_dir)\n",
    "from configs import get_config\n",
    "from datasets import get_dataset\n",
    "\n",
    "config_name = \"flare\"\n",
    "config = get_config(config_name)\n",
    "\n",
    "with_fbp = config.data.task == \"reconstruction\"\n",
    "dataset = get_dataset(config, with_fbp=with_fbp, with_prediction_results=True)\n",
    "dataloader = DataLoader(dataset, batch_size=1, shuffle=True)"
   ]
  },
  {
   "cell_type": "code",
   "execution_count": null,
   "metadata": {},
   "outputs": [],
   "source": [
    "for i, data in enumerate(dataloader):\n",
    "    scan_name = data[\"name_img\"][0]\n",
    "\n",
    "    image = data[\"image\"]\n",
    "    mmse = data[\"mmse\"]\n",
    "    q_lo = data[\"q_lo\"]\n",
    "    q_hi = data[\"q_hi\"]\n",
    "\n",
    "    if config.data.task == \"denoising\":\n",
    "        measurement = image + config.data.sigma * torch.randn_like(image)\n",
    "    elif config.data.task == \"reconstruction\":\n",
    "        measurement = data[\"fbp\"]\n",
    "\n",
    "    data = torch.cat([image, measurement, mmse], dim=0)\n",
    "    data = torch.rot90(data, k=1, dims=(2, 3))\n",
    "\n",
    "    total_slices, n_slices = image.size(-1), 8\n",
    "    slice_idx = torch.linspace(0, image.size(-1) - 1, steps=n_slices).long()\n",
    "    image = data[..., slice_idx]\n",
    "    image = torch.permute(image, (0, 4, 1, 2, 3))\n",
    "    image = image.flatten(0, 1)\n",
    "    image = make_grid(image, nrow=n_slices)\n",
    "\n",
    "    _, ax = plt.subplots(figsize=(16, 9))\n",
    "    ax.imshow(image.permute(1, 2, 0), cmap=\"gray\")\n",
    "    ax.axis(\"off\")\n",
    "    plt.show()\n",
    "\n",
    "    if (i + 1) % 10 == 0:\n",
    "        break"
   ]
  },
  {
   "cell_type": "code",
   "execution_count": null,
   "metadata": {},
   "outputs": [],
   "source": []
  }
 ],
 "metadata": {
  "kernelspec": {
   "display_name": "suprem",
   "language": "python",
   "name": "python3"
  },
  "language_info": {
   "codemirror_mode": {
    "name": "ipython",
    "version": 3
   },
   "file_extension": ".py",
   "mimetype": "text/x-python",
   "name": "python",
   "nbconvert_exporter": "python",
   "pygments_lexer": "ipython3",
   "version": "3.9.21"
  }
 },
 "nbformat": 4,
 "nbformat_minor": 2
}
