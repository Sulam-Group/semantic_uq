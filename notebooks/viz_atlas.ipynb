{
 "cells": [
  {
   "cell_type": "code",
   "execution_count": null,
   "metadata": {},
   "outputs": [],
   "source": [
    "import os\n",
    "import sys\n",
    "import torch\n",
    "import matplotlib.pyplot as plt\n",
    "from torchvision.utils import make_grid\n",
    "from monai.data import DataLoader\n",
    "\n",
    "root_dir = \"../\"\n",
    "sys.path.append(root_dir)\n",
    "from configs import get_config\n",
    "from datasets import AbdomenAtlas\n",
    "\n",
    "config_name = \"ts\"\n",
    "config = get_config(config_name)\n",
    "\n",
    "with_fbp = True\n",
    "dataset = AbdomenAtlas(config, with_fbp=with_fbp)\n",
    "dataloader = DataLoader(dataset, batch_size=4, shuffle=True)"
   ]
  },
  {
   "cell_type": "code",
   "execution_count": null,
   "metadata": {},
   "outputs": [],
   "source": [
    "data = next(iter(dataloader))\n",
    "image = data[\"image\"]\n",
    "\n",
    "if config.data.task == \"denoising\":\n",
    "    measurement = image + config.data.sigma * torch.randn_like(image)\n",
    "elif config.data.task == \"reconstruction\":\n",
    "    measurement = data[\"fbp\"]\n",
    "else:\n",
    "    raise ValueError(f\"Unknown task: {config.data.task}\")\n",
    "\n",
    "total_slices, n_slices = image.size(-1), 8\n",
    "slice_idx = torch.linspace(0, image.size(-1) - 1, steps=n_slices).long()\n",
    "\n",
    "image = image[..., slice_idx]\n",
    "measurement = measurement[..., slice_idx]\n",
    "\n",
    "image = torch.permute(image, (0, 4, 1, 2, 3))\n",
    "image = image.flatten(0, 1)\n",
    "\n",
    "measurement = torch.permute(measurement, (0, 4, 1, 2, 3))\n",
    "measurement = measurement.flatten(0, 1)\n",
    "\n",
    "image = make_grid(image, nrow=n_slices)\n",
    "measurement = make_grid(measurement, nrow=n_slices)\n",
    "\n",
    "_, ax = plt.subplots(figsize=(16, 9))\n",
    "ax.imshow(image.permute(1, 2, 0), cmap=\"gray\")\n",
    "ax.axis(\"off\")\n",
    "plt.show()\n",
    "\n",
    "_, ax = plt.subplots(figsize=(16, 9))\n",
    "ax.imshow(measurement.permute(1, 2, 0), cmap=\"gray\")\n",
    "ax.axis(\"off\")\n",
    "plt.show()"
   ]
  },
  {
   "cell_type": "code",
   "execution_count": null,
   "metadata": {},
   "outputs": [],
   "source": []
  }
 ],
 "metadata": {
  "kernelspec": {
   "display_name": "suprem",
   "language": "python",
   "name": "python3"
  },
  "language_info": {
   "codemirror_mode": {
    "name": "ipython",
    "version": 3
   },
   "file_extension": ".py",
   "mimetype": "text/x-python",
   "name": "python",
   "nbconvert_exporter": "python",
   "pygments_lexer": "ipython3",
   "version": "3.9.21"
  }
 },
 "nbformat": 4,
 "nbformat_minor": 2
}
